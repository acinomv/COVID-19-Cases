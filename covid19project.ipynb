{
 "cells": [
  {
   "cell_type": "markdown",
   "id": "8fca6b57-f14b-49ff-a88c-8cf2309575c0",
   "metadata": {},
   "source": [
    "### 1. Introduction"
   ]
  },
  {
   "cell_type": "markdown",
   "id": "7ac669f1-1e86-4971-92e5-98ec0a924973",
   "metadata": {},
   "source": [
    "In this project, I will study COVID-19 cases and deaths in states of California and New York. Firstly, I want to find out the dates when each of the states had their highest number of new cases and new deaths. Then, I will fit a linear model to California COVID-19 data and see how well it performs on New York data."
   ]
  },
  {
   "cell_type": "markdown",
   "id": "2e5ec860-a1a2-45b5-9172-cee98c6eedf8",
   "metadata": {},
   "source": [
    "### 2. Libraries"
   ]
  },
  {
   "cell_type": "code",
   "execution_count": 1,
   "id": "2eb26024-56c8-45a4-ac73-10b0f1ffee71",
   "metadata": {},
   "outputs": [
    {
     "name": "stderr",
     "output_type": "stream",
     "text": [
      "── \u001b[1mAttaching core tidyverse packages\u001b[22m ──────────────────────────────────────────────────────────────── tidyverse 2.0.0 ──\n",
      "\u001b[32m✔\u001b[39m \u001b[34mdplyr    \u001b[39m 1.1.2     \u001b[32m✔\u001b[39m \u001b[34mreadr    \u001b[39m 2.1.4\n",
      "\u001b[32m✔\u001b[39m \u001b[34mforcats  \u001b[39m 1.0.0     \u001b[32m✔\u001b[39m \u001b[34mstringr  \u001b[39m 1.5.0\n",
      "\u001b[32m✔\u001b[39m \u001b[34mggplot2  \u001b[39m 3.4.3     \u001b[32m✔\u001b[39m \u001b[34mtibble   \u001b[39m 3.2.1\n",
      "\u001b[32m✔\u001b[39m \u001b[34mlubridate\u001b[39m 1.9.2     \u001b[32m✔\u001b[39m \u001b[34mtidyr    \u001b[39m 1.3.0\n",
      "\u001b[32m✔\u001b[39m \u001b[34mpurrr    \u001b[39m 1.0.2     \n",
      "── \u001b[1mConflicts\u001b[22m ────────────────────────────────────────────────────────────────────────────────── tidyverse_conflicts() ──\n",
      "\u001b[31m✖\u001b[39m \u001b[34mdplyr\u001b[39m::\u001b[32mfilter()\u001b[39m masks \u001b[34mstats\u001b[39m::filter()\n",
      "\u001b[31m✖\u001b[39m \u001b[34mdplyr\u001b[39m::\u001b[32mlag()\u001b[39m    masks \u001b[34mstats\u001b[39m::lag()\n",
      "\u001b[36mℹ\u001b[39m Use the conflicted package (\u001b[3m\u001b[34m<http://conflicted.r-lib.org/>\u001b[39m\u001b[23m) to force all conflicts to become errors\n",
      "Warning message:\n",
      "\"package 'cowplot' was built under R version 4.3.3\"\n"
     ]
    }
   ],
   "source": [
    "library(tidyverse)\n",
    "library(lubridate)\n",
    "library(ggplot2)\n",
    "library(cowplot, warn.conflicts=FALSE)\n",
    "\n",
    "options(warn=-1)"
   ]
  },
  {
   "cell_type": "markdown",
   "id": "06264f37-cc80-42f0-919a-e1074fd341c9",
   "metadata": {},
   "source": [
    "### 3. Importing Data"
   ]
  },
  {
   "cell_type": "markdown",
   "id": "862d1a56-8277-4b2f-a934-3ce523e04292",
   "metadata": {},
   "source": [
    "I used data from Johns Hopkins University that includes time series tables that document confirmed cases, and deaths from daily reports.\n",
    "\n",
    "I will start by reading in the .csv files from the JHU github repository."
   ]
  },
  {
   "cell_type": "code",
   "execution_count": 2,
   "id": "3f9c53f3-11f5-4e64-a300-b5cf00fb3e95",
   "metadata": {},
   "outputs": [],
   "source": [
    "url_in <- \"https://raw.githubusercontent.com/CSSEGISandData/COVID-19/master/csse_covid_19_data/csse_covid_19_time_series/\"\n",
    "\n",
    "file_names <- c(\"time_series_covid19_confirmed_US.csv\",\n",
    "                \"time_series_covid19_deaths_US.csv\")\n",
    "\n",
    "urls <- str_c(url_in, file_names)"
   ]
  },
  {
   "cell_type": "code",
   "execution_count": 3,
   "id": "72ef2461-1574-4246-b4bd-d85f14810ad3",
   "metadata": {},
   "outputs": [],
   "source": [
    "US_cases <- read_csv(urls[1], show_col_types = FALSE)\n",
    "US_deaths <- read_csv(urls[2], show_col_types = FALSE)"
   ]
  },
  {
   "cell_type": "code",
   "execution_count": 4,
   "id": "44e3fdf0-d122-4811-b5ba-28cedf662780",
   "metadata": {},
   "outputs": [],
   "source": [
    "US_cases <- US_cases %>%\n",
    "  pivot_longer(cols = -c(UID:Combined_Key),\n",
    "               names_to = \"date\",\n",
    "               values_to = \"cases\") %>%\n",
    "  select(Admin2:cases) %>%\n",
    "  mutate(date = mdy(date)) %>%\n",
    "  select(-c(Lat, Long_))\n",
    "\n",
    "US_deaths <- US_deaths %>%\n",
    "  pivot_longer(cols = -c(UID:Population),\n",
    "               names_to = \"date\",\n",
    "               values_to = \"deaths\") %>%\n",
    "  select(Admin2:deaths) %>%\n",
    "  mutate(date = mdy(date)) %>%\n",
    "  select(-c(Lat, Long_))"
   ]
  },
  {
   "cell_type": "code",
   "execution_count": 5,
   "id": "d20ab477-2610-4c2f-be6f-a7a7dfd75164",
   "metadata": {},
   "outputs": [
    {
     "name": "stderr",
     "output_type": "stream",
     "text": [
      "\u001b[1m\u001b[22mJoining with `by = join_by(Admin2, Province_State, Country_Region, Combined_Key, date)`\n"
     ]
    }
   ],
   "source": [
    "US <- US_cases %>%\n",
    "  full_join(US_deaths)"
   ]
  },
  {
   "cell_type": "markdown",
   "id": "fcc54317-e4bd-48d8-a493-ad4dc0aa9771",
   "metadata": {},
   "source": [
    "Here, I scale the data by population and created a data set that showed the cases in each state."
   ]
  },
  {
   "cell_type": "code",
   "execution_count": 6,
   "id": "285e45d6-de36-4656-a6e5-ad84744d092b",
   "metadata": {},
   "outputs": [
    {
     "name": "stderr",
     "output_type": "stream",
     "text": [
      "\u001b[1m\u001b[22m`summarise()` has grouped output by 'Province_State', 'Country_Region'. You can override using the `.groups` argument.\n"
     ]
    }
   ],
   "source": [
    "US_by_state <- US %>%\n",
    "  group_by(Province_State, Country_Region, date) %>%\n",
    "  summarize(cases = sum(cases), deaths = sum(deaths), \n",
    "            Population = sum(Population)) %>%\n",
    "  mutate(cases_per_mill = cases * 1000000 / Population) %>%\n",
    "  mutate(deaths_per_mill = deaths * 1000000 / Population) %>%\n",
    "  select(Province_State, Country_Region, date, cases, deaths, cases_per_mill,\n",
    "         deaths_per_mill, Population) %>%\n",
    "  ungroup()"
   ]
  },
  {
   "cell_type": "markdown",
   "id": "3bd07135-ce17-4edc-8c4f-57bc0862f1a9",
   "metadata": {},
   "source": [
    "I then made a dataset called US_totals that shows the number of cases and deaths throughout the whole US for each date."
   ]
  },
  {
   "cell_type": "code",
   "execution_count": 7,
   "id": "8699de03-bb6e-40a1-b476-f3361fc73fa1",
   "metadata": {},
   "outputs": [
    {
     "name": "stderr",
     "output_type": "stream",
     "text": [
      "\u001b[1m\u001b[22m`summarise()` has grouped output by 'Country_Region'. You can override using the `.groups` argument.\n"
     ]
    }
   ],
   "source": [
    "US_totals <- US_by_state %>%\n",
    "  group_by(Country_Region, date) %>%\n",
    "  summarize(cases = sum(cases), deaths = sum(deaths),\n",
    "            Population = sum(Population)) %>%\n",
    "  mutate(cases_per_mill = cases * 1000000 / Population) %>%\n",
    "  mutate(deaths_per_mill = deaths * 1000000 / Population) %>%\n",
    "  select(Country_Region, date, cases, deaths, cases_per_mill, deaths_per_mill,\n",
    "         Population) %>%\n",
    "  ungroup()"
   ]
  },
  {
   "cell_type": "markdown",
   "id": "7afd0037-8cdf-4c10-8b4d-e288f718851f",
   "metadata": {},
   "source": [
    "Since I ultimately want to train a model with California's COVID-19 data, I separate it out from US_by_state into its own dataset called CA_totals.\n"
   ]
  },
  {
   "cell_type": "code",
   "execution_count": 8,
   "id": "7bc6fb7c-f92e-41a6-b175-2439ae0c3c81",
   "metadata": {},
   "outputs": [
    {
     "name": "stderr",
     "output_type": "stream",
     "text": [
      "\u001b[1m\u001b[22m`summarise()` has grouped output by 'Province_State'. You can override using the `.groups` argument.\n"
     ]
    }
   ],
   "source": [
    "CA_totals <- US_by_state %>%\n",
    "  filter(Province_State == \"California\") %>%\n",
    "  group_by(Province_State, date) %>%\n",
    "  summarize(cases = sum(cases), deaths = sum(deaths),\n",
    "            Population = sum(Population)) %>%\n",
    "  mutate(cases_scaled = cases * 1000 / Population) %>%\n",
    "  mutate(deaths_scaled = deaths * 1000 / Population) %>%\n",
    "  select(Province_State, date, cases, deaths, cases_scaled, deaths_scaled,\n",
    "         Population) %>%\n",
    "  ungroup()"
   ]
  },
  {
   "cell_type": "markdown",
   "id": "d4c78fd5-b361-4347-8320-56841560d0c2",
   "metadata": {},
   "source": [
    "Here, I do the same thing to separate out New York's COVID-19 data.\n"
   ]
  },
  {
   "cell_type": "code",
   "execution_count": 9,
   "id": "64ad5c1d-c2ac-4048-8595-6f7ec5e81cae",
   "metadata": {},
   "outputs": [
    {
     "name": "stderr",
     "output_type": "stream",
     "text": [
      "\u001b[1m\u001b[22m`summarise()` has grouped output by 'Province_State'. You can override using the `.groups` argument.\n"
     ]
    }
   ],
   "source": [
    "NY_totals <- US_by_state %>%\n",
    "  filter(Province_State == \"New York\") %>%\n",
    "  group_by(Province_State, date) %>%\n",
    "  summarize(cases = sum(cases), deaths = sum(deaths),\n",
    "            Population = max(Population)) %>%\n",
    "  mutate(cases_scaled = cases * 1000 / Population) %>%\n",
    "  mutate(deaths_scaled = deaths * 1000 / Population) %>%\n",
    "  select(Province_State, date, cases, deaths, cases_scaled, deaths_scaled,\n",
    "         Population) %>%\n",
    "  ungroup()"
   ]
  },
  {
   "cell_type": "markdown",
   "id": "e1f0a4c1-3202-4b47-a29f-81a1f96b68f7",
   "metadata": {},
   "source": [
    "After viewing the dataframes for each state, New York's data shows that it has instances of zero cases from mid-January of 2020 until early March. Since this might skew the data, I will remove instances of zero cases for both California and New York."
   ]
  },
  {
   "cell_type": "code",
   "execution_count": 10,
   "id": "57387ec0-59dd-42bb-b0ea-ebbdd47d1dd8",
   "metadata": {},
   "outputs": [],
   "source": [
    "CA_totals <- CA_totals %>%\n",
    "  filter(cases > 0)\n",
    "\n",
    "NY_totals <- NY_totals %>%\n",
    "  filter(cases > 0)"
   ]
  },
  {
   "cell_type": "markdown",
   "id": "59c9dc74-bb19-4a36-be40-a986844283c2",
   "metadata": {},
   "source": [
    "### 5. Some Analysis and Visualization"
   ]
  },
  {
   "cell_type": "markdown",
   "id": "773bd51c-cb14-4c32-b9bf-2647b698dc8f",
   "metadata": {},
   "source": [
    "Before modeling, I will seek to answer the following questions:\n",
    "\n",
    "1. What date did the US have the highest number of:\n",
    "    a) Total Cases\n",
    "    b) Total Deaths\n",
    "2. What date did California and New York have the highest number of:\n",
    "    a) Total Cases\n",
    "    b) Total Deaths\n",
    "\n",
    "Here, I calculate the new cases and new deaths for the US, California, and New York within the dataset."
   ]
  },
  {
   "cell_type": "code",
   "execution_count": 11,
   "id": "c3cd4786-a60a-40a3-9fc7-68017c9fae28",
   "metadata": {},
   "outputs": [],
   "source": [
    "CA_totals <- CA_totals %>%\n",
    "  mutate(new_cases = cases - lag(cases),\n",
    "         new_cases = replace_na(new_cases, 0),\n",
    "         new_deaths = deaths - lag(deaths),\n",
    "         new_deaths = replace_na(new_deaths, 0)) %>%\n",
    "  filter(new_cases >= 0, new_deaths >= 0)\n",
    "\n",
    "NY_totals <- NY_totals %>%\n",
    "  mutate(new_cases = cases - lag(cases),\n",
    "         new_cases = replace_na(new_cases, 0),\n",
    "         new_deaths = deaths - lag(deaths),\n",
    "         new_deaths = replace_na(new_deaths, 0)) %>%\n",
    "  filter(new_cases >= 0, new_deaths >= 0)\n",
    "\n",
    "US_totals <- US_totals %>%\n",
    "  mutate(new_cases = cases - lag(cases),\n",
    "         new_cases = replace_na(new_cases, 0),\n",
    "         new_deaths = deaths - lag(deaths),\n",
    "         new_deaths = replace_na(new_deaths, 0)) %>%\n",
    "  filter(new_cases >= 0, new_deaths >= 0)"
   ]
  },
  {
   "cell_type": "markdown",
   "id": "8fa1ba57-0256-4790-abfa-ca8b9c15dce4",
   "metadata": {},
   "source": [
    "Here, I get the results and print them out."
   ]
  },
  {
   "cell_type": "code",
   "execution_count": 12,
   "id": "b69efcb0-100e-4bbe-905f-e7632dbfcc35",
   "metadata": {},
   "outputs": [
    {
     "name": "stderr",
     "output_type": "stream",
     "text": [
      "\u001b[1m\u001b[22mJoining with `by = join_by(Province_State, maxNewCases, maxNewCasesDate, maxNewDeaths, maxNewDeathsDate, maxCases,\n",
      "maxCasesDate, maxDeaths, maxDeathsDate, population)`\n"
     ]
    },
    {
     "data": {
      "text/html": [
       "<table class=\"dataframe\">\n",
       "<caption>A data.frame: 2 × 10</caption>\n",
       "<thead>\n",
       "\t<tr><th></th><th scope=col>Province_State</th><th scope=col>maxNewCases</th><th scope=col>maxNewCasesDate</th><th scope=col>maxNewDeaths</th><th scope=col>maxNewDeathsDate</th><th scope=col>maxCases</th><th scope=col>maxCasesDate</th><th scope=col>maxDeaths</th><th scope=col>maxDeathsDate</th><th scope=col>population</th></tr>\n",
       "\t<tr><th></th><th scope=col>&lt;chr&gt;</th><th scope=col>&lt;dbl&gt;</th><th scope=col>&lt;date&gt;</th><th scope=col>&lt;dbl&gt;</th><th scope=col>&lt;date&gt;</th><th scope=col>&lt;dbl&gt;</th><th scope=col>&lt;date&gt;</th><th scope=col>&lt;dbl&gt;</th><th scope=col>&lt;date&gt;</th><th scope=col>&lt;dbl&gt;</th></tr>\n",
       "</thead>\n",
       "<tbody>\n",
       "\t<tr><th scope=row>1</th><td>California</td><td>207110</td><td>2022-01-16</td><td>1163</td><td>2021-02-24</td><td>12129699</td><td>2023-03-09</td><td>101159</td><td>2023-03-09</td><td>39512223</td></tr>\n",
       "\t<tr><th scope=row>2</th><td>New York  </td><td>132093</td><td>2022-01-03</td><td>1271</td><td>2020-04-07</td><td> 6794738</td><td>2023-03-09</td><td> 77157</td><td>2023-03-09</td><td>19453561</td></tr>\n",
       "</tbody>\n",
       "</table>\n"
      ],
      "text/latex": [
       "A data.frame: 2 × 10\n",
       "\\begin{tabular}{r|llllllllll}\n",
       "  & Province\\_State & maxNewCases & maxNewCasesDate & maxNewDeaths & maxNewDeathsDate & maxCases & maxCasesDate & maxDeaths & maxDeathsDate & population\\\\\n",
       "  & <chr> & <dbl> & <date> & <dbl> & <date> & <dbl> & <date> & <dbl> & <date> & <dbl>\\\\\n",
       "\\hline\n",
       "\t1 & California & 207110 & 2022-01-16 & 1163 & 2021-02-24 & 12129699 & 2023-03-09 & 101159 & 2023-03-09 & 39512223\\\\\n",
       "\t2 & New York   & 132093 & 2022-01-03 & 1271 & 2020-04-07 &  6794738 & 2023-03-09 &  77157 & 2023-03-09 & 19453561\\\\\n",
       "\\end{tabular}\n"
      ],
      "text/markdown": [
       "\n",
       "A data.frame: 2 × 10\n",
       "\n",
       "| <!--/--> | Province_State &lt;chr&gt; | maxNewCases &lt;dbl&gt; | maxNewCasesDate &lt;date&gt; | maxNewDeaths &lt;dbl&gt; | maxNewDeathsDate &lt;date&gt; | maxCases &lt;dbl&gt; | maxCasesDate &lt;date&gt; | maxDeaths &lt;dbl&gt; | maxDeathsDate &lt;date&gt; | population &lt;dbl&gt; |\n",
       "|---|---|---|---|---|---|---|---|---|---|---|\n",
       "| 1 | California | 207110 | 2022-01-16 | 1163 | 2021-02-24 | 12129699 | 2023-03-09 | 101159 | 2023-03-09 | 39512223 |\n",
       "| 2 | New York   | 132093 | 2022-01-03 | 1271 | 2020-04-07 |  6794738 | 2023-03-09 |  77157 | 2023-03-09 | 19453561 |\n",
       "\n"
      ],
      "text/plain": [
       "  Province_State maxNewCases maxNewCasesDate maxNewDeaths maxNewDeathsDate\n",
       "1 California     207110      2022-01-16      1163         2021-02-24      \n",
       "2 New York       132093      2022-01-03      1271         2020-04-07      \n",
       "  maxCases maxCasesDate maxDeaths maxDeathsDate population\n",
       "1 12129699 2023-03-09   101159    2023-03-09    39512223  \n",
       "2  6794738 2023-03-09    77157    2023-03-09    19453561  "
      ]
     },
     "metadata": {},
     "output_type": "display_data"
    }
   ],
   "source": [
    "CA_results <- CA_totals %>%\n",
    "  group_by(Province_State) %>%\n",
    "  summarise(maxNewCases = new_cases[which.max(new_cases)], \n",
    "            maxNewCasesDate = date[which.max(new_cases)],\n",
    "            maxNewDeaths = new_deaths[which.max(new_deaths)],\n",
    "            maxNewDeathsDate = date[which.max(new_deaths)],\n",
    "            maxCases = cases[which.max(cases)],\n",
    "            maxCasesDate = date[which.max(cases)],\n",
    "            maxDeaths = deaths[which.max(deaths)],\n",
    "            maxDeathsDate = date[which.max(deaths)],\n",
    "            population = mean(Population))\n",
    "\n",
    "NY_results <- NY_totals %>%\n",
    "  group_by(Province_State) %>%\n",
    "  summarise(maxNewCases = new_cases[which.max(new_cases)], \n",
    "            maxNewCasesDate = date[which.max(new_cases)],\n",
    "            maxNewDeaths = new_deaths[which.max(new_deaths)],\n",
    "            maxNewDeathsDate = date[which.max(new_deaths)],\n",
    "            maxCases = cases[which.max(cases)],\n",
    "            maxCasesDate = date[which.max(cases)],\n",
    "            maxDeaths = deaths[which.max(deaths)],\n",
    "            maxDeathsDate = date[which.max(deaths)],\n",
    "            population = mean(Population))\n",
    "\n",
    "results <- CA_results  %>%\n",
    "  full_join(NY_results)\n",
    "\n",
    "head(data.frame(results))"
   ]
  },
  {
   "cell_type": "markdown",
   "id": "1c3cb723-a436-470f-8684-5c8ce01cf229",
   "metadata": {},
   "source": [
    "From the code and its output above, we can see that overall, California has more new cases, new deaths, max cases, and max deaths compared to New York. This is most likely due to the population differences between these two countries, and can also be due to other factors like COVID testing and reporting. We can see that New York reached its maximum number of new cases about three months after California reached its maximum new cases. Interestingly, New York reached its maximum number of new deaths quite early on into the pandemic, as opposed to California. \n",
    "\n",
    "Below are some plots to visualize this."
   ]
  },
  {
   "cell_type": "code",
   "execution_count": 13,
   "id": "3460e184-a395-407c-9864-cb8da5a25594",
   "metadata": {},
   "outputs": [
    {
     "data": {
      "image/png": "[encoded data removed]",
      "text/plain": [
       "plot without title"
      ]
     },
     "metadata": {
      "image/png": {
       "height": 420,
       "width": 420
      }
     },
     "output_type": "display_data"
    }
   ],
   "source": [
    "#US plots\n",
    "CA_plot <- CA_totals %>%\n",
    "  ggplot(aes(x = date, y = new_cases)) +\n",
    "  geom_line(aes(color = \"new_cases\")) +\n",
    "  geom_point(aes(color = \"new_cases\")) +\n",
    "  geom_line(aes(y = new_deaths, color = \"new_deaths\")) +\n",
    "  geom_point(aes(y = new_deaths, color = \"new_deaths\")) +\n",
    "  geom_line(aes(y = cases, color = \"cases\")) +\n",
    "  geom_point(aes(y = cases, color = \"cases\")) +\n",
    "  geom_line(aes(y = deaths, color = \"deaths\")) +\n",
    "  geom_point(aes(y = deaths, color = \"deaths\")) +\n",
    "  scale_y_log10() +\n",
    "  ggtitle(\"California COVID-19 Results\") +\n",
    "  labs(x = \"Date\", y = NULL) +\n",
    "  theme(legend.position = \"bottom\",\n",
    "        legend.text = element_text(size = 5),\n",
    "        axis.text.x = element_text(angle = 90))\n",
    "\n",
    "NY_plot <- NY_totals %>%\n",
    "  ggplot(aes(x = date, y = new_cases)) +\n",
    "  geom_line(aes(color = \"new_cases\")) +\n",
    "  geom_point(aes(color = \"new_cases\")) +\n",
    "  geom_line(aes(y = new_deaths, color = \"new_deaths\")) +\n",
    "  geom_point(aes(y = new_deaths, color = \"new_deaths\")) +\n",
    "  geom_line(aes(y = cases, color = \"cases\")) +\n",
    "  geom_point(aes(y = cases, color = \"cases\")) +\n",
    "  geom_line(aes(y = deaths, color = \"deaths\")) +\n",
    "  geom_point(aes(y = deaths, color = \"deaths\")) +\n",
    "  scale_y_log10() +\n",
    "  ggtitle(\"New York COVID-19 Results\") +\n",
    "  labs(x = \"Date\", y = NULL) +\n",
    "  theme(legend.position = \"bottom\",\n",
    "        legend.text = element_text(size = 5),\n",
    "        axis.text.x = element_text(angle = 90))\n",
    "\n",
    "plot_grid(CA_plot, NY_plot, labels = \"AUTO\")"
   ]
  },
  {
   "cell_type": "markdown",
   "id": "9ce09a31-d6f4-471e-b8fd-c2f3695c3944",
   "metadata": {},
   "source": [
    "Looking at the above graphs side-by-side, we can see a few things. Firstly, we note at the start of the COVID-19 pandemic, both California and New York had a similar dramatic increases in cases, deaths, new cases, and new deaths. Both countries seem to have leveled out in total cases and deaths around the same time, although California's was more gradual and New York was sharper during the second half of 2020. Additionally, it's interesting to see that for both states, the trends for new cases and new deaths follow the same shapes.\n",
    "\n",
    "Next, I want to see if there is some relationship when plotting new deaths versus new cases for each state."
   ]
  },
  {
   "cell_type": "code",
   "execution_count": 15,
   "id": "42d9baa5-a441-4458-9187-82b2f8dff087",
   "metadata": {},
   "outputs": [
    {
     "data": {
      "image/png": "[encoded data removed]",
      "text/plain": [
       "plot without title"
      ]
     },
     "metadata": {
      "image/png": {
       "height": 420,
       "width": 420
      }
     },
     "output_type": "display_data"
    }
   ],
   "source": [
    "CA_plot_new <- CA_totals %>%\n",
    "  ggplot(aes(x = new_cases, y = new_deaths)) +\n",
    "  geom_line() +\n",
    "  geom_point() +\n",
    "  ggtitle(\"California\") +\n",
    "  theme(legend.position = \"bottom\")\n",
    "\n",
    "NY_plot_new <- NY_totals %>%\n",
    "  ggplot(aes(x = new_cases, y = new_deaths)) +\n",
    "  geom_line() +\n",
    "  geom_point() +\n",
    "  ggtitle(\"New York\") +\n",
    "  theme(legend.position = \"bottom\")\n",
    "\n",
    "plot_grid(CA_plot_new, NY_plot_new, labels = \"AUTO\")"
   ]
  },
  {
   "cell_type": "markdown",
   "id": "45ea334a-8b06-4c80-a5fb-051dfe4a5864",
   "metadata": {},
   "source": [
    "From the graphs above, we can see that there is a general upward trend of new deaths with new cases, however the variance of new_deaths is pretty high for both California and New York.\n"
   ]
  },
  {
   "cell_type": "markdown",
   "id": "19e3ffd1-fafa-4b8c-9a90-a88b08056d59",
   "metadata": {},
   "source": [
    "### 6. Modeling"
   ]
  },
  {
   "cell_type": "markdown",
   "id": "5d429b74-5261-4bfd-bcb6-e123d135f688",
   "metadata": {},
   "source": [
    "Now, I would like to train a linear model with California's COVID-19 data and see how well it works for the New York's data. I use deaths_scaled as my response and cases_scaled as my predictor. Recall that cases and deaths are scaled by 1000 and the respective populations for each state.\n"
   ]
  },
  {
   "cell_type": "code",
   "execution_count": 16,
   "id": "53f44005-163c-41f4-af18-17708251fed8",
   "metadata": {},
   "outputs": [
    {
     "data": {
      "text/plain": [
       "\n",
       "Call:\n",
       "lm(formula = deaths_scaled ~ cases_scaled, data = CA_totals)\n",
       "\n",
       "Residuals:\n",
       "    Min      1Q  Median      3Q     Max \n",
       "-0.3706 -0.2289 -0.1183  0.3540  0.5030 \n",
       "\n",
       "Coefficients:\n",
       "              Estimate Std. Error t value Pr(>|t|)    \n",
       "(Intercept)  3.706e-01  1.388e-02   26.69   <2e-16 ***\n",
       "cases_scaled 7.913e-03  7.989e-05   99.05   <2e-16 ***\n",
       "---\n",
       "Signif. codes:  0 '***' 0.001 '**' 0.01 '*' 0.05 '.' 0.1 ' ' 1\n",
       "\n",
       "Residual standard error: 0.2874 on 1123 degrees of freedom\n",
       "Multiple R-squared:  0.8973,\tAdjusted R-squared:  0.8972 \n",
       "F-statistic:  9810 on 1 and 1123 DF,  p-value: < 2.2e-16\n"
      ]
     },
     "metadata": {},
     "output_type": "display_data"
    }
   ],
   "source": [
    "mod <- lm(deaths_scaled ~ cases_scaled , data = CA_totals)\n",
    "summary(mod)\n",
    "\n",
    "CA_pred <- predict(mod)\n",
    "\n",
    "CA_totals <- CA_totals %>%\n",
    "  mutate(prediction = CA_pred)"
   ]
  },
  {
   "cell_type": "markdown",
   "id": "d93d7be9-74bc-4938-bd4d-0de24023f7a1",
   "metadata": {},
   "source": [
    "The output of the summary for the model shows that cases_scaled is a significant predictor and the adjusted R-squared is close to 1.\n",
    "\n",
    "Next, I test the model on New York's data."
   ]
  },
  {
   "cell_type": "code",
   "execution_count": 17,
   "id": "01f60f06-ed96-4f22-81a6-9251ec5e137b",
   "metadata": {},
   "outputs": [],
   "source": [
    "NY_pred <- predict(mod, newdata = NY_totals)\n",
    "\n",
    "NY_totals <- NY_totals %>%\n",
    "  mutate(prediction = NY_pred)"
   ]
  },
  {
   "cell_type": "code",
   "execution_count": 18,
   "id": "0d8b40e2-0cb1-44cc-87f7-d741e350106e",
   "metadata": {},
   "outputs": [
    {
     "data": {
      "image/png": "[encoded data removed]",
      "text/plain": [
       "plot without title"
      ]
     },
     "metadata": {
      "image/png": {
       "height": 420,
       "width": 420
      }
     },
     "output_type": "display_data"
    }
   ],
   "source": [
    "CA_model_plot <- ggplot(CA_totals, aes(x = cases_scaled, y = deaths_scaled)) +\n",
    "  geom_point(aes(color = \"deaths_scaled\")) +\n",
    "  geom_point(aes(y = prediction, color = \"prediction\")) +\n",
    "  ggtitle(\"Predicting California COVID-19 Deaths\") +\n",
    "  theme(legend.position = \"bottom\") +\n",
    "  scale_x_continuous(limits = c(0, 150)) +\n",
    "  scale_y_continuous(limits = c(0, 3))\n",
    "\n",
    "NY_model_plot <- ggplot(NY_totals, aes(x = cases_scaled, y = deaths_scaled)) +\n",
    "  geom_point(aes(color = \"deaths_scaled\")) +\n",
    "  geom_point(aes(y = prediction, color = \"prediction\")) +\n",
    "  ggtitle(\"Predicting New York COVID-19 Deaths\") +\n",
    "  theme(legend.position = \"bottom\") +\n",
    "  scale_x_continuous(limits = c(0, 150)) +\n",
    "  scale_y_continuous(limits = c(0, 3))\n",
    "\n",
    "plot_grid(CA_model_plot, NY_model_plot, labels = \"AUTO\")"
   ]
  },
  {
   "cell_type": "markdown",
   "id": "28beca5a-db1a-4ed4-b37b-bf23f246f4cf",
   "metadata": {},
   "source": [
    "Below I return the R-squared value for the model trained on California's data. Then I calculate the residual sum of squares and total sum of squares to ultimately calculate the R-squared value of the tested New York data.\n"
   ]
  },
  {
   "cell_type": "code",
   "execution_count": 19,
   "id": "6c131c5f-705e-4b7a-8183-2134587ea0e7",
   "metadata": {},
   "outputs": [],
   "source": [
    "CA_r2 <- summary(mod)$r.squared\n",
    "\n",
    "NY_true <- NY_totals$deaths_scaled\n",
    "\n",
    "SS_resid <- sum((NY_true - NY_pred)^2)\n",
    "SS_total <- sum((NY_true - mean(NY_true))^2)\n",
    "\n",
    "NY_r2 <- 1 - (SS_resid / SS_total)"
   ]
  },
  {
   "cell_type": "code",
   "execution_count": 20,
   "id": "2e420411-0e7e-4160-bbf3-ab0043dedc1f",
   "metadata": {},
   "outputs": [
    {
     "data": {
      "text/html": [
       "0.897286429348766"
      ],
      "text/latex": [
       "0.897286429348766"
      ],
      "text/markdown": [
       "0.897286429348766"
      ],
      "text/plain": [
       "[1] 0.8972864"
      ]
     },
     "metadata": {},
     "output_type": "display_data"
    },
    {
     "data": {
      "text/html": [
       "-0.460424914645509"
      ],
      "text/latex": [
       "-0.460424914645509"
      ],
      "text/markdown": [
       "-0.460424914645509"
      ],
      "text/plain": [
       "[1] -0.4604249"
      ]
     },
     "metadata": {},
     "output_type": "display_data"
    }
   ],
   "source": [
    "CA_r2\n",
    "NY_r2"
   ]
  },
  {
   "cell_type": "markdown",
   "id": "c0f81d07-e2c5-4e50-9dab-cd48a3ffc691",
   "metadata": {},
   "source": [
    "After training the model on the California COVID-19 data we can see that the model fits the data pretty well when scaled cases are under 25 or above 100. It does not really do a good job of fitting when cases are in between those numbers. However, the R-squared value generated by the linear model for California is very high, close to 1.\n",
    "\n",
    "When testing this model on New York's COVID-19 data, we see that the model severely underfits New York's data. Plotting the two regression graphs side-by-side shows that California overall has less cases and deaths when scaled by 1000 with respect to population compared to New York. So, as New York's scaled cases increase, the scaled deaths increase at a sharper rate, which is why California's model failed to work for New York. The model's prediction for an appropriate intercept for California is not large enough to account for the steeper rate needed for New York. This is also evident by the negative R-squared value when testing the California model on New York.\n"
   ]
  },
  {
   "cell_type": "markdown",
   "id": "1d241cd0-496f-4fb9-8492-0023d6e307b1",
   "metadata": {},
   "source": [
    "### 7. Conclusion and Bias Discussion"
   ]
  },
  {
   "cell_type": "markdown",
   "id": "38ec4960-45e1-41f7-9470-0ea2515eadd9",
   "metadata": {},
   "source": [
    "COVID-19 has drastically affected the whole world over the last couple years. All countries are facing this pandemic with whatever resources they have or are able to acquire, with respect to their own needs. Even across the US, different states have varying plans of action with regards to COVID-19, which in turn can show different levels of growth for both cases and deaths.\n",
    "\n",
    "An attempt to model California's deaths and cases and apply it to New York's data shows that two of the largest states in the US are not necessarily having the same outcomes with this pandemic. The only factors taken into account in this model are cases, deaths, and populations. So, the model does not take into account why California's data behaves one way, and New York's data another way.\n",
    "\n",
    "This is where the topic of bias plays an important role. Fitting a model on one state like California and using it as the gold standard across other states would not be accurate. Although the model may fit decently well with a high R-squared value for California, does not mean it will work well for other states. There are many factors as to why cases and deaths vary between states. Differences in the reporting of cases or deaths, state regulations, compliance of residents to socially distance and wear masks, vaccination rates, and hospitalization, to name a few, are underlying causes as to why cases and deaths differ between states. Training a model based on one state and using it as the \"ideal model\" compared to other states, creates a biased model if underlying reasons for differences are not accounted for or standardized in some way. In the case of this project, only deaths, cases, and population played role. Perhaps the modeling would turn out differently if other predictors like some of the ones previously mentioned are added."
   ]
  },
  {
   "cell_type": "code",
   "execution_count": null,
   "id": "a0685bb7-de8f-45f5-b82b-e0b2fa64cf8f",
   "metadata": {},
   "outputs": [],
   "source": []
  }
 ],
 "metadata": {
  "kernelspec": {
   "display_name": "R",
   "language": "R",
   "name": "ir"
  },
  "language_info": {
   "codemirror_mode": "r",
   "file_extension": ".r",
   "mimetype": "text/x-r-source",
   "name": "R",
   "pygments_lexer": "r",
   "version": "4.3.1"
  }
 },
 "nbformat": 4,
 "nbformat_minor": 5
}
